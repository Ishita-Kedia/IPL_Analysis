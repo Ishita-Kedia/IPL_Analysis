{
 "cells": [
  {
   "cell_type": "code",
   "execution_count": 11,
   "metadata": {},
   "outputs": [],
   "source": [
    "import pandas as pd\n",
    "import numpy as np\n",
    "from pandas import DataFrame,Series"
   ]
  },
  {
   "cell_type": "code",
   "execution_count": 13,
   "metadata": {},
   "outputs": [
    {
     "data": {
      "text/plain": [
       "match_id  batsman       \n",
       "1         A Choudhary        6\n",
       "          BCJ Cutting       16\n",
       "          CH Gayle          32\n",
       "          DA Warner         14\n",
       "          DJ Hooda          16\n",
       "          KM Jadhav         31\n",
       "          MC Henriques      52\n",
       "          Mandeep Singh     24\n",
       "          S Aravind          0\n",
       "          S Dhawan          40\n",
       "          SR Watson         22\n",
       "          STR Binny         11\n",
       "          Sachin Baby        1\n",
       "          TM Head           30\n",
       "          TS Mills           6\n",
       "          YS Chahal          3\n",
       "          Yuvraj Singh      62\n",
       "2         AM Rahane         60\n",
       "          AT Rayudu         10\n",
       "          BA Stokes         21\n",
       "          HH Pandya         35\n",
       "          JC Buttler        38\n",
       "          KA Pollard        27\n",
       "          KH Pandya          3\n",
       "          MA Agarwal         6\n",
       "          MS Dhoni          12\n",
       "          N Rana            34\n",
       "          PA Patel          19\n",
       "          RG Sharma          3\n",
       "          SPD Smith         84\n",
       "                            ..\n",
       "11414     DJ Bravo           4\n",
       "          F du Plessis      50\n",
       "          I Sharma          10\n",
       "          K Paul             4\n",
       "          MS Dhoni          10\n",
       "          P Shaw             6\n",
       "          RR Pant           39\n",
       "          S Dhawan          18\n",
       "          S Rutherford      14\n",
       "          SK Raina          11\n",
       "          SR Watson         56\n",
       "          SS Iyer           14\n",
       "          TA Boult           6\n",
       "11415     AS Yadav          15\n",
       "          AT Rayudu          1\n",
       "          DJ Bravo          15\n",
       "          F du Plessis      26\n",
       "          HH Pandya         16\n",
       "          Ishan Kishan      25\n",
       "          KA Pollard        41\n",
       "          KH Pandya          7\n",
       "          MJ McClenaghan     0\n",
       "          MS Dhoni           2\n",
       "          Q de Kock         30\n",
       "          RA Jadeja          9\n",
       "          RD Chahar          0\n",
       "          RG Sharma         15\n",
       "          SK Raina           9\n",
       "          SN Thakur          2\n",
       "          SR Watson         84\n",
       "Name: batsman_runs, Length: 11294, dtype: int64"
      ]
     },
     "execution_count": 13,
     "metadata": {},
     "output_type": "execute_result"
    }
   ],
   "source": [
    "data = pd.read_csv('datasets\\deliveries.csv')\n",
    "cd=data.groupby(['match_id','batsman'])['batsman_runs'].sum()\n",
    "cd"
   ]
  },
  {
   "cell_type": "code",
   "execution_count": 9,
   "metadata": {},
   "outputs": [],
   "source": [
    "cd0 = pd.DataFrame(cd)\n",
    "ave_run=cd0.groupby('batsman')['batsman_runs'].mean().sort_values(ascending=False)\n",
    "ave_run=pd.DataFrame(ave_run)\n",
    "ave_run=ave_run.reset_index()\n",
    "ave_run.to_csv('avgrun19.csv',index=False)"
   ]
  },
  {
   "cell_type": "code",
   "execution_count": 14,
   "metadata": {},
   "outputs": [
    {
     "data": {
      "text/plain": [
       "match_id  batsman       \n",
       "1         A Choudhary        6\n",
       "          BCJ Cutting       16\n",
       "          CH Gayle          32\n",
       "          DA Warner         14\n",
       "          DJ Hooda          16\n",
       "          KM Jadhav         31\n",
       "          MC Henriques      52\n",
       "          Mandeep Singh     24\n",
       "          S Aravind          0\n",
       "          S Dhawan          40\n",
       "          SR Watson         22\n",
       "          STR Binny         11\n",
       "          Sachin Baby        1\n",
       "          TM Head           30\n",
       "          TS Mills           6\n",
       "          YS Chahal          3\n",
       "          Yuvraj Singh      62\n",
       "2         AM Rahane         60\n",
       "          AT Rayudu         10\n",
       "          BA Stokes         21\n",
       "          HH Pandya         35\n",
       "          JC Buttler        38\n",
       "          KA Pollard        27\n",
       "          KH Pandya          3\n",
       "          MA Agarwal         6\n",
       "          MS Dhoni          12\n",
       "          N Rana            34\n",
       "          PA Patel          19\n",
       "          RG Sharma          3\n",
       "          SPD Smith         84\n",
       "                            ..\n",
       "635       DJ Bravo          20\n",
       "          DJ Hooda           4\n",
       "          DR Smith           1\n",
       "          DS Kulkarni        3\n",
       "          ER Dwivedi         5\n",
       "          KD Karthik        26\n",
       "          MC Henriques      11\n",
       "          NV Ojha           10\n",
       "          RA Jadeja         19\n",
       "          S Dhawan           0\n",
       "          SK Raina           1\n",
       "          Yuvraj Singh       8\n",
       "636       AB de Villiers     5\n",
       "          B Kumar            1\n",
       "          BCJ Cutting       39\n",
       "          Bipul Sharma       5\n",
       "          CH Gayle          76\n",
       "          CJ Jordan          3\n",
       "          DA Warner         69\n",
       "          DJ Hooda           3\n",
       "          Iqbal Abdulla      4\n",
       "          KL Rahul          11\n",
       "          MC Henriques       4\n",
       "          NV Ojha            7\n",
       "          S Dhawan          28\n",
       "          SR Watson         11\n",
       "          STR Binny          9\n",
       "          Sachin Baby       18\n",
       "          V Kohli           54\n",
       "          Yuvraj Singh      38\n",
       "Name: batsman_runs, Length: 1763, dtype: int64"
      ]
     },
     "execution_count": 14,
     "metadata": {},
     "output_type": "execute_result"
    }
   ],
   "source": [
    "data = pd.read_csv('datasets/1617.csv')\n",
    "cd=data.groupby(['match_id','batsman'])['batsman_runs'].sum()\n",
    "cd"
   ]
  },
  {
   "cell_type": "code",
   "execution_count": 15,
   "metadata": {},
   "outputs": [],
   "source": [
    "cd0 = pd.DataFrame(cd)\n",
    "ave_run=cd0.groupby('batsman')['batsman_runs'].mean().sort_values(ascending=False)\n",
    "ave_run=pd.DataFrame(ave_run)\n",
    "ave_run=ave_run.reset_index()\n",
    "ave_run.to_csv('avgrun1617.csv',index=False)"
   ]
  },
  {
   "cell_type": "code",
   "execution_count": null,
   "metadata": {},
   "outputs": [],
   "source": []
  }
 ],
 "metadata": {
  "kernelspec": {
   "display_name": "Python 3",
   "language": "python",
   "name": "python3"
  },
  "language_info": {
   "codemirror_mode": {
    "name": "ipython",
    "version": 3
   },
   "file_extension": ".py",
   "mimetype": "text/x-python",
   "name": "python",
   "nbconvert_exporter": "python",
   "pygments_lexer": "ipython3",
   "version": "3.7.3"
  }
 },
 "nbformat": 4,
 "nbformat_minor": 2
}
