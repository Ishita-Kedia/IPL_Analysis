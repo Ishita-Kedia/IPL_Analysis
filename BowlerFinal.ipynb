{
 "cells": [
  {
   "cell_type": "code",
   "execution_count": 1,
   "metadata": {},
   "outputs": [],
   "source": [
    "import pandas as pd\n",
    "from pandas import Series,DataFrame\n",
    "import numpy as np\n",
    "import matplotlib.pyplot as plt"
   ]
  },
  {
   "cell_type": "code",
   "execution_count": 2,
   "metadata": {},
   "outputs": [],
   "source": [
    "b819=pd.read_csv('bowler/bowleravg819.csv')\n",
    "d819=pd.read_csv('bowler/deathRuns0819.csv',)\n",
    "n819=pd.read_csv('bowler/NOBALLWID.csv')\n",
    "p819=pd.read_csv('bowler/powerplay0819.csv')\n",
    "w819=pd.read_csv('bowler/wick819.csv')"
   ]
  },
  {
   "cell_type": "code",
   "execution_count": 3,
   "metadata": {},
   "outputs": [],
   "source": [
    "b819=b819.rename(columns={'over':'total_overs'})\n",
    "d819=d819.rename(columns={'over':'death_over'})\n",
    "p819=p819.rename(columns={'over':'powerplay_over'})\n",
    "w819=w819.rename(columns={'player_dismissed':'wickets'})"
   ]
  },
  {
   "cell_type": "code",
   "execution_count": 4,
   "metadata": {},
   "outputs": [],
   "source": [
    "a1=pd.merge(b819,d819,on='bowler',how='outer')\n",
    "a2=pd.merge(a1,n819,on='bowler',how='outer')\n",
    "a3=pd.merge(a2,p819,on='bowler',how='outer')\n",
    "a4=pd.merge(a3,w819,on='bowler',how='outer')\n",
    "a4.to_csv('bo819.csv',index=False)"
   ]
  },
  {
   "cell_type": "code",
   "execution_count": 6,
   "metadata": {},
   "outputs": [],
   "source": [
    "b1819=pd.read_csv('bowler/bowleravg1819.csv')\n",
    "d1819=pd.read_csv('bowler/deathRuns1819.csv')\n",
    "n1819=pd.read_csv('bowler/NOBALLWID1919.csv')\n",
    "p1819=pd.read_csv('bowler/powerplay1819.csv')\n",
    "w1819=pd.read_csv('bowler/wick1819.csv')"
   ]
  },
  {
   "cell_type": "code",
   "execution_count": 7,
   "metadata": {},
   "outputs": [],
   "source": [
    "b1819=b1819.rename(columns={'over':'total_overs'})\n",
    "d1819=d1819.rename(columns={'over':'death_over'})\n",
    "p1819=p1819.rename(columns={'over':'powerplay_over'})\n",
    "w1819=w1819.rename(columns={'player_dismissed':'wickets'})"
   ]
  },
  {
   "cell_type": "code",
   "execution_count": 8,
   "metadata": {},
   "outputs": [],
   "source": [
    "b1=pd.merge(b1819,d1819,on='bowler',how='outer')\n",
    "b2=pd.merge(a1,n1819,on='bowler',how='outer')\n",
    "b3=pd.merge(a2,p1819,on='bowler',how='outer')\n",
    "b4=pd.merge(a3,w1819,on='bowler',how='outer')\n",
    "b4.to_csv('bo1819.csv',index=False)"
   ]
  },
  {
   "cell_type": "code",
   "execution_count": 9,
   "metadata": {},
   "outputs": [],
   "source": [
    "b1617=pd.read_csv('bowler/bowleravg1617.csv')\n",
    "d1617=pd.read_csv('bowler/deathRuns1617.csv')\n",
    "n1617=pd.read_csv('bowler/NOBALLWID1617.csv')\n",
    "p1617=pd.read_csv('bowler/powerplay1617.csv')\n",
    "w1617=pd.read_csv('bowler/wick1617.csv')"
   ]
  },
  {
   "cell_type": "code",
   "execution_count": 10,
   "metadata": {},
   "outputs": [],
   "source": [
    "b1617=b1617.rename(columns={'over':'total_overs'})\n",
    "d1617=d1617.rename(columns={'over':'death_over'})\n",
    "p1617=p1617.rename(columns={'over':'powerplay_over'})\n",
    "w1617=w1617.rename(columns={'player_dismissed':'wickets'})"
   ]
  },
  {
   "cell_type": "code",
   "execution_count": 11,
   "metadata": {},
   "outputs": [],
   "source": [
    "c1=pd.merge(b1819,d1617,on='bowler',how='outer')\n",
    "c2=pd.merge(a1,n1617,on='bowler',how='outer')\n",
    "c3=pd.merge(a2,p1617,on='bowler',how='outer')\n",
    "c4=pd.merge(a3,w1617,on='bowler',how='outer')\n",
    "c4.to_csv('bo1617.csv',index=False)"
   ]
  },
  {
   "cell_type": "code",
   "execution_count": null,
   "metadata": {},
   "outputs": [],
   "source": []
  }
 ],
 "metadata": {
  "kernelspec": {
   "display_name": "Python 3",
   "language": "python",
   "name": "python3"
  },
  "language_info": {
   "codemirror_mode": {
    "name": "ipython",
    "version": 3
   },
   "file_extension": ".py",
   "mimetype": "text/x-python",
   "name": "python",
   "nbconvert_exporter": "python",
   "pygments_lexer": "ipython3",
   "version": "3.7.3"
  }
 },
 "nbformat": 4,
 "nbformat_minor": 2
}
